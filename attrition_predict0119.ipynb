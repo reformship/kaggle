{
  "nbformat": 4,
  "nbformat_minor": 0,
  "metadata": {
    "colab": {
      "name": "attrition_predict0119.ipynb",
      "provenance": [],
      "authorship_tag": "ABX9TyNB/+WG3a3m54kjq1HuV7uy",
      "include_colab_link": true
    },
    "kernelspec": {
      "name": "python3",
      "display_name": "Python 3"
    }
  },
  "cells": [
    {
      "cell_type": "markdown",
      "metadata": {
        "id": "view-in-github",
        "colab_type": "text"
      },
      "source": [
        "<a href=\"https://colab.research.google.com/github/reformship/kaggle/blob/master/attrition_predict0119.ipynb\" target=\"_parent\"><img src=\"https://colab.research.google.com/assets/colab-badge.svg\" alt=\"Open In Colab\"/></a>"
      ]
    },
    {
      "cell_type": "code",
      "metadata": {
        "id": "ergVLG_5feIM",
        "colab_type": "code",
        "colab": {}
      },
      "source": [
        "import pandas as pd\n",
        "\n",
        "train_file = r'train.csv';\n",
        "test_file = r'test.csv';\n",
        "train_employee_data = pd.read_csv(train_file, index_col='user_id');\n",
        "test_employee_data = pd.read_csv(test_file, index_col='user_id');\n",
        "print(train_employee_data.head());\n",
        "\n",
        "from sklearn.model_selection import train_test_split\n",
        "y = train_employee_data['Attrition'];\n",
        "X = train_employee_data.drop(['Attrition'], axis=1);\n",
        "\n",
        "#training set and validation set\n",
        "X_train, X_val, y_train, y_val = train_test_split(X, y, train_size=0.99, test_size=0.01, random_state=0);\n",
        "\n",
        "#numerical columns and categorical columns\n",
        "numerical_cols = [col for col in X_train.columns if X_train[col].dtype in ['int64', 'float64']];\n",
        "categorical_cols = [col for col in X_train.columns if X_train[col].dtype == 'object'];\n",
        "\n",
        "#count the unique items in each categorical columns\n",
        "print(train_employee_data[categorical_cols].nunique());\n",
        "\n",
        "from sklearn.preprocessing import OneHotEncoder\n",
        "#Use one-hot encoder to encode the categorical columns\n",
        "OH_encoder = OneHotEncoder(sparse=False);\n",
        "OH_train_cols = pd.DataFrame(OH_encoder.fit_transform(X_train[categorical_cols]));\n",
        "OH_valid_cols = pd.DataFrame(OH_encoder.transform(X_val[categorical_cols]));\n",
        "OH_test_cols = pd.DataFrame(OH_encoder.transform(test_employee_data[categorical_cols]));\n",
        "\n",
        "OH_train_cols.index = X_train.index;\n",
        "OH_valid_cols.index = X_val.index;\n",
        "OH_test_cols.index = test_employee_data.index;\n",
        "\n",
        "numerical_train_cols = X_train.drop(categorical_cols, axis=1);\n",
        "numerical_valid_cols = X_val.drop(categorical_cols, axis=1);\n",
        "numerical_test_cols = test_employee_data.drop(categorical_cols, axis=1);\n",
        "\n",
        "OH_train = pd.concat([OH_train_cols, numerical_train_cols], axis=1);\n",
        "OH_valid = pd.concat([OH_valid_cols, numerical_valid_cols], axis=1);\n",
        "OH_test = pd.concat([OH_test_cols, numerical_test_cols], axis=1);\n",
        "\n",
        "from sklearn.preprocessing import LabelEncoder\n",
        "label_encoder = LabelEncoder();\n",
        "y_train = label_encoder.fit_transform(y_train);\n",
        "print(y_val);\n",
        "y_val = label_encoder.transform(y_val);\n",
        "print(y_val);"
      ],
      "execution_count": 0,
      "outputs": []
    },
    {
      "cell_type": "code",
      "metadata": {
        "id": "vn-bWRrafxGm",
        "colab_type": "code",
        "colab": {}
      },
      "source": [
        "pip install tpot"
      ],
      "execution_count": 0,
      "outputs": []
    },
    {
      "cell_type": "code",
      "metadata": {
        "id": "xmlMcPAmf0fI",
        "colab_type": "code",
        "colab": {}
      },
      "source": [
        "from tpot import TPOTClassifier"
      ],
      "execution_count": 0,
      "outputs": []
    },
    {
      "cell_type": "code",
      "metadata": {
        "id": "GSeh4TEcf_2Z",
        "colab_type": "code",
        "colab": {}
      },
      "source": [
        "tpot = TPOTClassifier()"
      ],
      "execution_count": 0,
      "outputs": []
    },
    {
      "cell_type": "code",
      "metadata": {
        "id": "-ZTVt9d3gwop",
        "colab_type": "code",
        "colab": {}
      },
      "source": [
        "tpot.fit(OH_train, y_train)\n",
        "test_preds = tpot.predict_proba(OH_test)[:,1];\n",
        "print(test_preds);\n",
        "print(test_employee_data.index);\n",
        "output = pd.DataFrame({'user_id': test_employee_data.index, 'Attrition': test_preds});\n",
        "output.to_csv('submission5.csv', index=False);\n",
        "print(output)\n",
        "tpot.export('tpot_mnist_pipeline.py')"
      ],
      "execution_count": 0,
      "outputs": []
    }
  ]
}